{
 "cells": [
  {
   "cell_type": "markdown",
   "metadata": {},
   "source": [
    "# Project Summary\n",
    "\n",
    "\n",
    "\n",
    "- In recent years the style and nature of the Press Releases has changed. Sharing news is clearly impacting on how people find news today. In this analysis, I address the problem of predicting online news popularity based on the number of shares of articles. I needed to find a model to explain why some news stories have more share than others and identify a group of variables to predict popularity.\n",
    "\n",
    "- Initially, I formulated the prediction task as a regression linear where the target is measured at the continuous level. However, the target showed a high variance and for this reason I transformed the target value into a binary set I approached the regression model as a classification problem. Finally, since important features are related to the content, I am going to explore the words in an article as additional features.I used Natural Language Processing techniques to extract features from the Body and Title of texts, and then applied machine learning algorithms such as Naive Bayes and Random Forest.\n",
    "\n",
    "- For this project, I used the Data Set from Mashable UK, an online digital media website online founded in 2005. The dataset contains information on 39,664 news stories and has 61 attributes. Given the large number of variables, I applied PCA to identify patterns and reduce the dimensions of the dataset with minimal loss of information.\n",
    "\n",
    "\n",
    "\n",
    "# Aim\n",
    "\n",
    "- The goal is to increases the popularity of individual news stories.\n",
    "\n",
    "\n",
    "# DataSet \n",
    "\n",
    "### a) Data source: UCI ML Repository\n",
    "https://archive.ics.uci.edu/ml/datasets/Online+News+Popularity\n",
    "\n",
    "- Number of Attributes 61\n",
    "- Number of Records 39644\n",
    "\n",
    "### b) Web Scraping: Importing a dataset from the web and saving as a local PostgreSQL \n",
    "\n",
    "### c) Importing a dataset from the URL of the article "
   ]
  },
  {
   "cell_type": "markdown",
   "metadata": {},
   "source": [
    "### Main libraries involved in this Notebook\n",
    "\n",
    "\n",
    "\n",
    "    Pandas for data manipulation\n",
    "    Matplotlib and seaborn for data visualization\n",
    "    Numpy for multidimensional array computing\n",
    "    sklearn for machine learning and predictive modeling\n",
    "    matplotlib for plots\n",
    "\n",
    "*Word Processing and NLPA:*\n",
    "\n",
    "\n",
    "    import requests\n",
    "    from bs4 import BeautifulSoup\n",
    "    from vaderSentiment.vaderSentiment import SentimentIntensityAnalyzer\n",
    "    import numpy as np\n",
    "    from sklearn.feature_extraction.text import CountVectorizer, TfidfVectorizer\n",
    "    from nltk.corpus import stopwords\n",
    "    from sklearn.feature_extraction.text import ENGLISH_STOP_WORDS\n",
    "    from wordcloud import WordCloud\n",
    "    \n",
    "*Principal Components:*\n",
    "\n",
    "     \n",
    "    from sklearn.preprocessing import StandardScaler\n",
    "    from sklearn.decomposition import PCA\n",
    "\n",
    "*Clustering:*\n",
    "\n",
    "   \n",
    "    from sklearn.cluster import KMeans, AgglomerativeClustering\n",
    "    from sklearn.metrics import silhouette_samples, silhouette_score, homogeneity_score, \n",
    "    completeness_score,\n",
    "    v_measure_score\n",
    "\n",
    "\n"
   ]
  },
  {
   "cell_type": "markdown",
   "metadata": {},
   "source": [
    "# 1. DATA MINING"
   ]
  },
  {
   "cell_type": "markdown",
   "metadata": {},
   "source": [
    "<a id='intro'></a>\n",
    "# Step 1 Exploratory data analysis\n",
    "> Mainly, I did the following:\n",
    "\n",
    "1. Data extraction: I loaded the data set and had a first look at it\n",
    "2. Cleanning: outliers and I renamed columns"
   ]
  },
  {
   "cell_type": "code",
   "execution_count": 2,
   "metadata": {},
   "outputs": [],
   "source": [
    "import pandas as pd\n",
    "import seaborn as sns\n",
    "import numpy as np\n",
    "import scipy.stats as stats\n",
    "import matplotlib.pyplot as plt\n",
    "import pandas_profiling\n",
    "##from bs4 import BeautifulSoup\n",
    "import warnings\n",
    "warnings.filterwarnings('ignore')\n",
    "sns.set_style('whitegrid')\n",
    "%config InlineBackend.figure_format = 'retina'\n",
    "%matplotlib inline\n",
    "\n",
    "#print multiple statements in same line\n",
    "from IPython.core.interactiveshell import InteractiveShell\n",
    "InteractiveShell.ast_node_interactivity =\"all\"\n",
    "\n",
    "#import string\n",
    "#import time"
   ]
  },
  {
   "cell_type": "code",
   "execution_count": 3,
   "metadata": {},
   "outputs": [],
   "source": [
    "df = pd.read_csv('Datasheet/OnlineNewsPopularity.csv')"
   ]
  },
  {
   "cell_type": "code",
   "execution_count": 4,
   "metadata": {},
   "outputs": [],
   "source": [
    "# load and clean database \n",
    "def clean_df():\n",
    "    df_ini = pd.read_csv('Datasheet/OnlineNewsPopularity.csv')\n",
    "    df_ini.columns = [x.strip().replace(' ', '') for x in df.columns]\n",
    "    return df_ini"
   ]
  },
  {
   "cell_type": "code",
   "execution_count": 5,
   "metadata": {},
   "outputs": [
    {
     "data": {
      "text/html": [
       "<div>\n",
       "<style scoped>\n",
       "    .dataframe tbody tr th:only-of-type {\n",
       "        vertical-align: middle;\n",
       "    }\n",
       "\n",
       "    .dataframe tbody tr th {\n",
       "        vertical-align: top;\n",
       "    }\n",
       "\n",
       "    .dataframe thead th {\n",
       "        text-align: right;\n",
       "    }\n",
       "</style>\n",
       "<table border=\"1\" class=\"dataframe\">\n",
       "  <thead>\n",
       "    <tr style=\"text-align: right;\">\n",
       "      <th></th>\n",
       "      <th>url</th>\n",
       "      <th>timedelta</th>\n",
       "      <th>n_tokens_title</th>\n",
       "      <th>n_tokens_content</th>\n",
       "      <th>n_unique_tokens</th>\n",
       "      <th>n_non_stop_words</th>\n",
       "      <th>n_non_stop_unique_tokens</th>\n",
       "      <th>num_hrefs</th>\n",
       "      <th>num_self_hrefs</th>\n",
       "      <th>num_imgs</th>\n",
       "      <th>...</th>\n",
       "      <th>min_positive_polarity</th>\n",
       "      <th>max_positive_polarity</th>\n",
       "      <th>avg_negative_polarity</th>\n",
       "      <th>min_negative_polarity</th>\n",
       "      <th>max_negative_polarity</th>\n",
       "      <th>title_subjectivity</th>\n",
       "      <th>title_sentiment_polarity</th>\n",
       "      <th>abs_title_subjectivity</th>\n",
       "      <th>abs_title_sentiment_polarity</th>\n",
       "      <th>shares</th>\n",
       "    </tr>\n",
       "  </thead>\n",
       "  <tbody>\n",
       "    <tr>\n",
       "      <th>0</th>\n",
       "      <td>http://mashable.com/2013/01/07/amazon-instant-...</td>\n",
       "      <td>731.0</td>\n",
       "      <td>12.0</td>\n",
       "      <td>219.0</td>\n",
       "      <td>0.663594</td>\n",
       "      <td>1.0</td>\n",
       "      <td>0.815385</td>\n",
       "      <td>4.0</td>\n",
       "      <td>2.0</td>\n",
       "      <td>1.0</td>\n",
       "      <td>...</td>\n",
       "      <td>0.100000</td>\n",
       "      <td>0.7</td>\n",
       "      <td>-0.350000</td>\n",
       "      <td>-0.600</td>\n",
       "      <td>-0.200000</td>\n",
       "      <td>0.5</td>\n",
       "      <td>-0.1875</td>\n",
       "      <td>0.0</td>\n",
       "      <td>0.1875</td>\n",
       "      <td>593</td>\n",
       "    </tr>\n",
       "    <tr>\n",
       "      <th>1</th>\n",
       "      <td>http://mashable.com/2013/01/07/ap-samsung-spon...</td>\n",
       "      <td>731.0</td>\n",
       "      <td>9.0</td>\n",
       "      <td>255.0</td>\n",
       "      <td>0.604743</td>\n",
       "      <td>1.0</td>\n",
       "      <td>0.791946</td>\n",
       "      <td>3.0</td>\n",
       "      <td>1.0</td>\n",
       "      <td>1.0</td>\n",
       "      <td>...</td>\n",
       "      <td>0.033333</td>\n",
       "      <td>0.7</td>\n",
       "      <td>-0.118750</td>\n",
       "      <td>-0.125</td>\n",
       "      <td>-0.100000</td>\n",
       "      <td>0.0</td>\n",
       "      <td>0.0000</td>\n",
       "      <td>0.5</td>\n",
       "      <td>0.0000</td>\n",
       "      <td>711</td>\n",
       "    </tr>\n",
       "    <tr>\n",
       "      <th>2</th>\n",
       "      <td>http://mashable.com/2013/01/07/apple-40-billio...</td>\n",
       "      <td>731.0</td>\n",
       "      <td>9.0</td>\n",
       "      <td>211.0</td>\n",
       "      <td>0.575130</td>\n",
       "      <td>1.0</td>\n",
       "      <td>0.663866</td>\n",
       "      <td>3.0</td>\n",
       "      <td>1.0</td>\n",
       "      <td>1.0</td>\n",
       "      <td>...</td>\n",
       "      <td>0.100000</td>\n",
       "      <td>1.0</td>\n",
       "      <td>-0.466667</td>\n",
       "      <td>-0.800</td>\n",
       "      <td>-0.133333</td>\n",
       "      <td>0.0</td>\n",
       "      <td>0.0000</td>\n",
       "      <td>0.5</td>\n",
       "      <td>0.0000</td>\n",
       "      <td>1500</td>\n",
       "    </tr>\n",
       "  </tbody>\n",
       "</table>\n",
       "<p>3 rows × 61 columns</p>\n",
       "</div>"
      ],
      "text/plain": [
       "                                                 url  timedelta  \\\n",
       "0  http://mashable.com/2013/01/07/amazon-instant-...      731.0   \n",
       "1  http://mashable.com/2013/01/07/ap-samsung-spon...      731.0   \n",
       "2  http://mashable.com/2013/01/07/apple-40-billio...      731.0   \n",
       "\n",
       "   n_tokens_title  n_tokens_content  n_unique_tokens  n_non_stop_words  \\\n",
       "0            12.0             219.0         0.663594               1.0   \n",
       "1             9.0             255.0         0.604743               1.0   \n",
       "2             9.0             211.0         0.575130               1.0   \n",
       "\n",
       "   n_non_stop_unique_tokens  num_hrefs  num_self_hrefs  num_imgs  ...  \\\n",
       "0                  0.815385        4.0             2.0       1.0  ...   \n",
       "1                  0.791946        3.0             1.0       1.0  ...   \n",
       "2                  0.663866        3.0             1.0       1.0  ...   \n",
       "\n",
       "   min_positive_polarity  max_positive_polarity  avg_negative_polarity  \\\n",
       "0               0.100000                    0.7              -0.350000   \n",
       "1               0.033333                    0.7              -0.118750   \n",
       "2               0.100000                    1.0              -0.466667   \n",
       "\n",
       "   min_negative_polarity  max_negative_polarity  title_subjectivity  \\\n",
       "0                 -0.600              -0.200000                 0.5   \n",
       "1                 -0.125              -0.100000                 0.0   \n",
       "2                 -0.800              -0.133333                 0.0   \n",
       "\n",
       "   title_sentiment_polarity  abs_title_subjectivity  \\\n",
       "0                   -0.1875                     0.0   \n",
       "1                    0.0000                     0.5   \n",
       "2                    0.0000                     0.5   \n",
       "\n",
       "   abs_title_sentiment_polarity  shares  \n",
       "0                        0.1875     593  \n",
       "1                        0.0000     711  \n",
       "2                        0.0000    1500  \n",
       "\n",
       "[3 rows x 61 columns]"
      ]
     },
     "execution_count": 5,
     "metadata": {},
     "output_type": "execute_result"
    },
    {
     "name": "stdout",
     "output_type": "stream",
     "text": [
      "<class 'pandas.core.frame.DataFrame'>\n",
      "RangeIndex: 39644 entries, 0 to 39643\n",
      "Data columns (total 61 columns):\n",
      " #   Column                         Non-Null Count  Dtype  \n",
      "---  ------                         --------------  -----  \n",
      " 0   url                            39644 non-null  object \n",
      " 1   timedelta                      39644 non-null  float64\n",
      " 2   n_tokens_title                 39644 non-null  float64\n",
      " 3   n_tokens_content               39644 non-null  float64\n",
      " 4   n_unique_tokens                39644 non-null  float64\n",
      " 5   n_non_stop_words               39644 non-null  float64\n",
      " 6   n_non_stop_unique_tokens       39644 non-null  float64\n",
      " 7   num_hrefs                      39644 non-null  float64\n",
      " 8   num_self_hrefs                 39644 non-null  float64\n",
      " 9   num_imgs                       39644 non-null  float64\n",
      " 10  num_videos                     39644 non-null  float64\n",
      " 11  average_token_length           39644 non-null  float64\n",
      " 12  num_keywords                   39644 non-null  float64\n",
      " 13  data_channel_is_lifestyle      39644 non-null  float64\n",
      " 14  data_channel_is_entertainment  39644 non-null  float64\n",
      " 15  data_channel_is_bus            39644 non-null  float64\n",
      " 16  data_channel_is_socmed         39644 non-null  float64\n",
      " 17  data_channel_is_tech           39644 non-null  float64\n",
      " 18  data_channel_is_world          39644 non-null  float64\n",
      " 19  kw_min_min                     39644 non-null  float64\n",
      " 20  kw_max_min                     39644 non-null  float64\n",
      " 21  kw_avg_min                     39644 non-null  float64\n",
      " 22  kw_min_max                     39644 non-null  float64\n",
      " 23  kw_max_max                     39644 non-null  float64\n",
      " 24  kw_avg_max                     39644 non-null  float64\n",
      " 25  kw_min_avg                     39644 non-null  float64\n",
      " 26  kw_max_avg                     39644 non-null  float64\n",
      " 27  kw_avg_avg                     39644 non-null  float64\n",
      " 28  self_reference_min_shares      39644 non-null  float64\n",
      " 29  self_reference_max_shares      39644 non-null  float64\n",
      " 30  self_reference_avg_sharess     39644 non-null  float64\n",
      " 31  weekday_is_monday              39644 non-null  float64\n",
      " 32  weekday_is_tuesday             39644 non-null  float64\n",
      " 33  weekday_is_wednesday           39644 non-null  float64\n",
      " 34  weekday_is_thursday            39644 non-null  float64\n",
      " 35  weekday_is_friday              39644 non-null  float64\n",
      " 36  weekday_is_saturday            39644 non-null  float64\n",
      " 37  weekday_is_sunday              39644 non-null  float64\n",
      " 38  is_weekend                     39644 non-null  float64\n",
      " 39  LDA_00                         39644 non-null  float64\n",
      " 40  LDA_01                         39644 non-null  float64\n",
      " 41  LDA_02                         39644 non-null  float64\n",
      " 42  LDA_03                         39644 non-null  float64\n",
      " 43  LDA_04                         39644 non-null  float64\n",
      " 44  global_subjectivity            39644 non-null  float64\n",
      " 45  global_sentiment_polarity      39644 non-null  float64\n",
      " 46  global_rate_positive_words     39644 non-null  float64\n",
      " 47  global_rate_negative_words     39644 non-null  float64\n",
      " 48  rate_positive_words            39644 non-null  float64\n",
      " 49  rate_negative_words            39644 non-null  float64\n",
      " 50  avg_positive_polarity          39644 non-null  float64\n",
      " 51  min_positive_polarity          39644 non-null  float64\n",
      " 52  max_positive_polarity          39644 non-null  float64\n",
      " 53  avg_negative_polarity          39644 non-null  float64\n",
      " 54  min_negative_polarity          39644 non-null  float64\n",
      " 55  max_negative_polarity          39644 non-null  float64\n",
      " 56  title_subjectivity             39644 non-null  float64\n",
      " 57  title_sentiment_polarity       39644 non-null  float64\n",
      " 58  abs_title_subjectivity         39644 non-null  float64\n",
      " 59  abs_title_sentiment_polarity   39644 non-null  float64\n",
      " 60  shares                         39644 non-null  int64  \n",
      "dtypes: float64(59), int64(1), object(1)\n",
      "memory usage: 18.5+ MB\n"
     ]
    }
   ],
   "source": [
    "df = clean_df()\n",
    "df.head (3)\n",
    "df.info()"
   ]
  },
  {
   "cell_type": "code",
   "execution_count": 6,
   "metadata": {},
   "outputs": [],
   "source": [
    "#EDA_Report = pandas_profiling.ProfileReport(df)\n",
    "#EDA_Report"
   ]
  },
  {
   "cell_type": "markdown",
   "metadata": {},
   "source": [
    "<a id='step2'></a>\n",
    "# Step 2  Target \n",
    "\n",
    "The dataset include number_of_shares which I have targeted as the variable of our predictive learning\n",
    "\n",
    "\n",
    "> Mainly, I did the following:\n",
    "\n",
    "1. Visualization of social shares target \n",
    "2. Creating target data for classification analysis"
   ]
  },
  {
   "cell_type": "markdown",
   "metadata": {},
   "source": [
    "# Distribution of social shares"
   ]
  },
  {
   "cell_type": "code",
   "execution_count": 7,
   "metadata": {},
   "outputs": [
    {
     "data": {
      "text/plain": [
       "Text(0.5, 0, 'Shares')"
      ]
     },
     "execution_count": 7,
     "metadata": {},
     "output_type": "execute_result"
    },
    {
     "data": {
      "text/plain": [
       "Text(0.5, 1.0, 'Social Shares Distribution without outliers')"
      ]
     },
     "execution_count": 7,
     "metadata": {},
     "output_type": "execute_result"
    },
    {
     "name": "stdout",
     "output_type": "stream",
     "text": [
      "AxesSubplot(0.125,0.11;0.775x0.77)\n"
     ]
    },
    {
     "data": {
      "image/png": "[encoded data removed]",
      "text/plain": [
       "<Figure size 640x480 with 1 Axes>"
      ]
     },
     "metadata": {
      "image/png": {
       "height": 451,
       "width": 564
      }
     },
     "output_type": "display_data"
    }
   ],
   "source": [
    "# Visualization Target\n",
    "\n",
    "plt.xlabel('Shares')\n",
    "plt.title('Social Shares Distribution without outliers')\n",
    "print(sns.distplot(df.shares,kde=False, bins=25))"
   ]
  },
  {
   "cell_type": "code",
   "execution_count": 8,
   "metadata": {},
   "outputs": [
    {
     "data": {
      "text/plain": [
       "Text(0.5, 0, 'Shares')"
      ]
     },
     "execution_count": 8,
     "metadata": {},
     "output_type": "execute_result"
    },
    {
     "data": {
      "text/plain": [
       "Text(0.5, 1.0, 'Social Shares Distribution without outliers')"
      ]
     },
     "execution_count": 8,
     "metadata": {},
     "output_type": "execute_result"
    },
    {
     "name": "stdout",
     "output_type": "stream",
     "text": [
      "AxesSubplot(0.125,0.11;0.775x0.77)\n"
     ]
    },
    {
     "data": {
      "image/png": "[encoded data removed]",
      "text/plain": [
       "<Figure size 640x480 with 1 Axes>"
      ]
     },
     "metadata": {
      "image/png": {
       "height": 451,
       "width": 564
      }
     },
     "output_type": "display_data"
    }
   ],
   "source": [
    "# Let us see the distribution with share < 20000\n",
    "# Distribution of social shares without outliers\n",
    "plt.xlabel('Shares')\n",
    "plt.title('Social Shares Distribution without outliers')\n",
    "print(sns.distplot(df[df.shares < 20000].shares,kde=False, bins=25))"
   ]
  },
  {
   "cell_type": "code",
   "execution_count": 9,
   "metadata": {},
   "outputs": [
    {
     "name": "stdout",
     "output_type": "stream",
     "text": [
      "Max of the Target shares:\t 843300\n",
      "Min of the Target shares:\t 1\n"
     ]
    },
    {
     "data": {
      "text/plain": [
       "(39644, 61)"
      ]
     },
     "execution_count": 9,
     "metadata": {},
     "output_type": "execute_result"
    }
   ],
   "source": [
    "print('Max of the Target shares:\\t', df.shares.max())\n",
    "print('Min of the Target shares:\\t', df.shares.min())\n",
    "df.shape"
   ]
  },
  {
   "cell_type": "code",
   "execution_count": 10,
   "metadata": {},
   "outputs": [
    {
     "name": "stdout",
     "output_type": "stream",
     "text": [
      "Numbers of rows with shares > 20000:\t 818\n"
     ]
    }
   ],
   "source": [
    "# Targets shows a big variance \n",
    "# Need to do analisys which is essential to understand the outliers\n",
    "print('Numbers of rows with shares > 20000:\\t', df[df['shares']> 20000].shares.count())"
   ]
  },
  {
   "cell_type": "markdown",
   "metadata": {},
   "source": [
    "> - Number of rows > 20000 is 818 of 39644 rows (2%)"
   ]
  },
  {
   "cell_type": "code",
   "execution_count": 11,
   "metadata": {},
   "outputs": [
    {
     "data": {
      "text/plain": [
       "(38818, 61)"
      ]
     },
     "execution_count": 11,
     "metadata": {},
     "output_type": "execute_result"
    }
   ],
   "source": [
    "#Removing rows with 'shares' > 20000\n",
    "df = df[df['shares'] < 20000]\n",
    "df.shape"
   ]
  },
  {
   "cell_type": "code",
   "execution_count": 12,
   "metadata": {
    "scrolled": true
   },
   "outputs": [
    {
     "data": {
      "text/plain": [
       "<Figure size 800x800 with 0 Axes>"
      ]
     },
     "execution_count": 12,
     "metadata": {},
     "output_type": "execute_result"
    },
    {
     "data": {
      "text/plain": [
       "Text(0.5, 1.0, 'Social Shares Distribution')"
      ]
     },
     "execution_count": 12,
     "metadata": {},
     "output_type": "execute_result"
    },
    {
     "data": {
      "text/plain": [
       "<AxesSubplot: title={'center': 'Social Shares Distribution'}, xlabel='shares'>"
      ]
     },
     "execution_count": 12,
     "metadata": {},
     "output_type": "execute_result"
    },
    {
     "name": "stderr",
     "output_type": "stream",
     "text": [
      "No artists with labels found to put in legend.  Note that artists whose label start with an underscore are ignored when legend() is called with no argument.\n"
     ]
    },
    {
     "data": {
      "text/plain": [
       "<matplotlib.legend.Legend at 0x26de4957b20>"
      ]
     },
     "execution_count": 12,
     "metadata": {},
     "output_type": "execute_result"
    },
    {
     "data": {
      "image/png": "[encoded data removed]",
      "text/plain": [
       "<Figure size 800x800 with 1 Axes>"
      ]
     },
     "metadata": {
      "image/png": {
       "height": 701,
       "width": 688
      }
     },
     "output_type": "display_data"
    },
    {
     "name": "stdout",
     "output_type": "stream",
     "text": [
      "None\n"
     ]
    }
   ],
   "source": [
    "# Plot distribution without outliers \n",
    "plt.figure(figsize = (8,8))\n",
    "plt.title('Social Shares Distribution', fontsize = 16)\n",
    "sns.distplot(df.shares, bins = 20, norm_hist=False, kde=False)\n",
    "plt.legend(fontsize = 16)\n",
    "print(plt.show())"
   ]
  },
  {
   "cell_type": "markdown",
   "metadata": {},
   "source": [
    "Social share distribution is considerably skewed and the target shows a big variance"
   ]
  },
  {
   "cell_type": "markdown",
   "metadata": {},
   "source": [
    "# Target Transformation"
   ]
  },
  {
   "cell_type": "markdown",
   "metadata": {},
   "source": [
    "- The distribution is considerably skewed and definitely not normal. I used logarithmic scaling. "
   ]
  },
  {
   "cell_type": "markdown",
   "metadata": {},
   "source": [
    "### Logarithmic scaling "
   ]
  },
  {
   "cell_type": "code",
   "execution_count": 13,
   "metadata": {},
   "outputs": [
    {
     "name": "stdout",
     "output_type": "stream",
     "text": [
      "7.411\n",
      "7.245\n"
     ]
    }
   ],
   "source": [
    "# Logharithmic scaling \n",
    "df['shares_log'] = np.log1p(df.shares)\n",
    "print(round (np.mean(df['shares_log']),3))\n",
    "print(round (np.median(df['shares_log']),3))"
   ]
  },
  {
   "cell_type": "code",
   "execution_count": 14,
   "metadata": {},
   "outputs": [],
   "source": [
    "y = df.shares_log.values   "
   ]
  },
  {
   "cell_type": "code",
   "execution_count": 15,
   "metadata": {},
   "outputs": [
    {
     "data": {
      "text/plain": [
       "<Figure size 1000x800 with 0 Axes>"
      ]
     },
     "execution_count": 15,
     "metadata": {},
     "output_type": "execute_result"
    },
    {
     "data": {
      "text/plain": [
       "Text(0.5, 1.0, 'Social Shares Distribution (Plot Logharithmic scaling)')"
      ]
     },
     "execution_count": 15,
     "metadata": {},
     "output_type": "execute_result"
    },
    {
     "data": {
      "text/plain": [
       "<AxesSubplot: title={'center': 'Social Shares Distribution (Plot Logharithmic scaling)'}, xlabel='shares_log'>"
      ]
     },
     "execution_count": 15,
     "metadata": {},
     "output_type": "execute_result"
    },
    {
     "name": "stderr",
     "output_type": "stream",
     "text": [
      "No artists with labels found to put in legend.  Note that artists whose label start with an underscore are ignored when legend() is called with no argument.\n"
     ]
    },
    {
     "data": {
      "text/plain": [
       "<matplotlib.legend.Legend at 0x26de4a32cb0>"
      ]
     },
     "execution_count": 15,
     "metadata": {},
     "output_type": "execute_result"
    },
    {
     "data": {
      "image/png": "[encoded data removed]",
      "text/plain": [
       "<Figure size 1000x800 with 1 Axes>"
      ]
     },
     "metadata": {
      "image/png": {
       "height": 701,
       "width": 835
      }
     },
     "output_type": "display_data"
    }
   ],
   "source": [
    "# natural log of social shares is more normally distributed(Logharithmic scaling)\n",
    "plt.figure(figsize = (10,8))\n",
    "plt.title('Social Shares Distribution (Plot Logharithmic scaling)', fontsize = 16)\n",
    "sns.distplot(df.shares_log, bins = 50, norm_hist=False, kde=False)\n",
    "plt.legend(fontsize = 16)\n",
    "plt.show()"
   ]
  },
  {
   "cell_type": "markdown",
   "metadata": {},
   "source": [
    "There is change in visualization which makes it easier to distinguish counts."
   ]
  },
  {
   "cell_type": "markdown",
   "metadata": {},
   "source": [
    "### Target Transformation for classification analysis"
   ]
  },
  {
   "cell_type": "markdown",
   "metadata": {},
   "source": [
    "- The target variable shows a high variance. I change the target value to binary category.\n",
    "- I have used median as measure of central tendency. The median es the value which occupies the middle position.\n",
    "- The article considers being popular if the number of shares exceeded 7.24 else it’s classified as unpopular.\n",
    "(Without logarithmic scaling the news item will be popular if the number of shares exceeded 1,400 social shares)."
   ]
  },
  {
   "cell_type": "code",
   "execution_count": 16,
   "metadata": {},
   "outputs": [],
   "source": [
    "y_c = df['shares_log'].map(lambda x: 1 if x >7.24  else 0)"
   ]
  },
  {
   "cell_type": "code",
   "execution_count": 17,
   "metadata": {},
   "outputs": [
    {
     "data": {
      "text/plain": [
       "1    20328\n",
       "0    18490\n",
       "Name: shares_log, dtype: int64"
      ]
     },
     "execution_count": 17,
     "metadata": {},
     "output_type": "execute_result"
    }
   ],
   "source": [
    "y_c.value_counts()"
   ]
  },
  {
   "cell_type": "code",
   "execution_count": 18,
   "metadata": {},
   "outputs": [],
   "source": [
    "# Function with targets transformations\n",
    "def df_tran(df):\n",
    "    df = df[df['shares'] < 20000]\n",
    "    df['shares_log'] = np.log1p(df.shares)\n",
    "    df[\"y\"] = df['shares_log']\n",
    "    df[\"y_c\"] = df['shares_log'].map(lambda x: 1 if x >7.24  else 0)    \n",
    "    return df\n",
    "df = df_tran(df)\n",
    "df.to_csv('./df.csv', encoding='utf-8',index_label= True)"
   ]
  },
  {
   "cell_type": "code",
   "execution_count": null,
   "metadata": {},
   "outputs": [],
   "source": [
    "df_feature=df\n",
    "df_feature.head()"
   ]
  },
  {
   "cell_type": "markdown",
   "metadata": {},
   "source": [
    "<a id='step3'></a>\n",
    "\n",
    "# Step 3  Features Enginering \n",
    "\n"
   ]
  },
  {
   "cell_type": "markdown",
   "metadata": {},
   "source": [
    "- The Dataset contains a large number of variables, some of them are relating \n",
    "to meta-data\n",
    "such as channel type, the day the news story was published and the dataset contains natural language processing\n",
    "features (The Latent Dirichlet Allocation was applied to all texts).\n",
    "\n",
    "- In this area I focused on the study of features selection and outliers\n",
    "\n",
    ">For the features engineering analysis I divided the analysis: \n",
    "\n",
    "1. Definition Features \n",
    "2. Categorical Features\n",
    "3. Numerical Features\n",
    "4. Ckeck correlation\n",
    "5. Number of share news trend"
   ]
  },
  {
   "cell_type": "markdown",
   "metadata": {},
   "source": [
    "<a id='f31'></a>\n",
    "##  3.1 Definition Features"
   ]
  },
  {
   "cell_type": "code",
   "execution_count": null,
   "metadata": {},
   "outputs": [],
   "source": [
    "# cols.remove('url', 'shares' and 'shares_log')\n",
    "cols = list(df_feature.columns)\n",
    "cols.remove('shares_log')\n",
    "cols.remove('shares')\n",
    "cols.remove('url')\n",
    "cols.remove('y')\n",
    "cols.remove('y_c')\n",
    "X = df_feature[cols]\n",
    "X.head(2)"
   ]
  },
  {
   "cell_type": "markdown",
   "metadata": {},
   "source": [
    "### First - a quick look at columns which are directly related to shares"
   ]
  },
  {
   "cell_type": "code",
   "execution_count": null,
   "metadata": {},
   "outputs": [],
   "source": [
    "shares = df_feature[[c for c in df_feature.columns if \"share\" in c]].copy()\n",
    "for c in shares.columns:\n",
    "    shares[c] = np.log(shares[c] + 1)\n",
    "sns.pairplot(shares)"
   ]
  },
  {
   "cell_type": "markdown",
   "metadata": {},
   "source": [
    "I have analysed the point that could be an outlier. I do not have enough information about the content to know if this article could be relevant to the analysis."
   ]
  },
  {
   "cell_type": "markdown",
   "metadata": {},
   "source": [
    "<a id='f32'></a>\n",
    "##  3.2 Categorical Features"
   ]
  },
  {
   "cell_type": "markdown",
   "metadata": {},
   "source": [
    "- Mashable.com has categorized the articles into 6 channels: Lifestyle,Entertainment,Social Media, Technology and World. And the day of the week that the new was published."
   ]
  },
  {
   "cell_type": "code",
   "execution_count": null,
   "metadata": {},
   "outputs": [],
   "source": [
    "# Categorical Columns\n",
    "categorical = [\"data_channel_is_lifestyle\",\"data_channel_is_entertainment\",\"data_channel_is_bus\",\n",
    "\"data_channel_is_socmed\",\"data_channel_is_tech\",\"data_channel_is_world\",\n",
    "'weekday_is_monday','weekday_is_tuesday',\"weekday_is_wednesday\",\"weekday_is_thursday\",\n",
    "\"weekday_is_friday\",\"weekday_is_saturday\",\"weekday_is_sunday\",\"is_weekend\"]"
   ]
  },
  {
   "cell_type": "code",
   "execution_count": null,
   "metadata": {},
   "outputs": [],
   "source": [
    "categorical = X[[col for col in df_feature.columns if col in categorical]]"
   ]
  },
  {
   "cell_type": "markdown",
   "metadata": {},
   "source": [
    "### Plot to see the occurence of categorical columns"
   ]
  },
  {
   "cell_type": "code",
   "execution_count": null,
   "metadata": {},
   "outputs": [],
   "source": [
    "def plot_value_occurences(self,normed = False, columns = None, \n",
    "                              fig_size = (15,15), xmarks = False,ymarks=True,\n",
    "                              mn = (10,10), verbose = 0):\n",
    "        if columns == None: columns = self.columns.tolist()         \n",
    "        num_of_cols = len(columns)\n",
    "        if verbose > 0: print('Generating ',num_of_cols,' plots')        \n",
    "        m,n = mn        \n",
    "        plt.clf()\n",
    "        plt.figure(figsize=fig_size)\n",
    "        plt.suptitle('Histogram of unique values',fontsize=25)\n",
    "        for i in range(num_of_cols):\n",
    "            col = columns[i]\n",
    "            plt.subplot(m,n,i+1)\n",
    "            plt.title(col)\n",
    "            self[col].value_counts(dropna = False).plot(kind='bar');\n",
    "            if xmarks == False: plt.xticks([])\n",
    "            if ymarks == False: plt.yticks([])\n",
    "        plt.tight_layout()\n",
    "        plt.subplots_adjust(top=0.92)\n",
    "        plt.show()\n",
    "        return None\n",
    "    \n",
    "plot_value_occurences(categorical, mn=(4,4), columns=list(categorical.columns))\n",
    "plt.show()"
   ]
  },
  {
   "cell_type": "markdown",
   "metadata": {},
   "source": [
    "> - The number of occurences on Thursday and World channel are the highest"
   ]
  },
  {
   "cell_type": "markdown",
   "metadata": {},
   "source": [
    "### Distribution of Weekdays"
   ]
  },
  {
   "cell_type": "code",
   "execution_count": null,
   "metadata": {},
   "outputs": [],
   "source": [
    "#plt.figure(figsize = (6,6))\n",
    "colors = [\"g\",\"r\",\"b\",\"c\",\"m\",\"y\",'#133ea7']    \n",
    "plt.title('Social Shares by weekday', fontsize = 16)\n",
    "df_feature[[col for col in df_feature.columns if 'weekday_is' in col]].sum().plot(kind = 'bar',\\\n",
    "                                        align='center', color=colors)\n",
    "plt.show()"
   ]
  },
  {
   "cell_type": "markdown",
   "metadata": {
    "collapsed": true
   },
   "source": [
    "> The number of shares are highest during the middle of the week and decrease during the weekends; on Tuesday, Wednesdays and Thursday are higher than the \n",
    "> rest of days\n"
   ]
  },
  {
   "cell_type": "code",
   "execution_count": null,
   "metadata": {},
   "outputs": [],
   "source": [
    "# Let us see what is happening during weekends\n",
    "df_feature.groupby('is_weekend').mean().T"
   ]
  },
  {
   "cell_type": "markdown",
   "metadata": {
    "collapsed": true
   },
   "source": [
    "> - On average, weekends receive more shares than weekdays. However, a weekend article will have less opportunity to be shared as referenced articles in Mashable - \n",
    ">- This could be relevant to know about how it work as a self_reference. "
   ]
  },
  {
   "cell_type": "markdown",
   "metadata": {},
   "source": [
    "### Distribution of Channels"
   ]
  },
  {
   "cell_type": "code",
   "execution_count": null,
   "metadata": {},
   "outputs": [],
   "source": [
    "plt.figure(figsize = (8,8))\n",
    "\n",
    "Lifestyle = df_feature[df_feature['data_channel_is_lifestyle']== 1].shares.count()\n",
    "Entertainment = df_feature[df_feature['data_channel_is_entertainment']== 1].shares.count()\n",
    "Bus = df_feature[df_feature['data_channel_is_bus']== 1].shares.count() #Business\n",
    "Socmed = df_feature[df_feature['data_channel_is_socmed']== 1].shares.count()\n",
    "Tech = df_feature[df_feature['data_channel_is_tech']== 1].shares.count()\n",
    "World = df_feature[df_feature['data_channel_is_world']== 1].shares.count()\n",
    "\n",
    "D = {'Entertainment':Entertainment, 'Business':Bus,'Social Media':Socmed, 'Tech':Tech, 'World':World}\n",
    "colors = [\"g\",\"r\",\"b\",\"c\",\"m\",\"y\",'#624ea7']\n",
    "plt.bar(range(len(D)), D.values(), align='center', color=colors)\n",
    "plt.xticks(range(len(D)), D.keys())\n",
    "plt.title('Social Shares by Channel', fontsize = 16)\n",
    "plt.show()"
   ]
  },
  {
   "cell_type": "markdown",
   "metadata": {},
   "source": [
    "> - The number of shares articles in World channel is the highest. It is followed by Tech News and Entertainment.\n",
    "\n",
    "> - We dont have information if any channel could be recorded for more than one category."
   ]
  },
  {
   "cell_type": "markdown",
   "metadata": {},
   "source": [
    "<a id='f33'></a>\n",
    "##  3.2 Numerical Feautures"
   ]
  },
  {
   "cell_type": "markdown",
   "metadata": {},
   "source": [
    " - The dataset contains\n",
    "features related to links and Digital Media (videos and images)in the article.\n",
    " "
   ]
  },
  {
   "cell_type": "code",
   "execution_count": null,
   "metadata": {},
   "outputs": [],
   "source": [
    "# Create group numerical features\n",
    "num_col = [col for col in X.columns if col not in categorical]\n",
    "num = X[[col for col in X.columns if col not in categorical]]\n",
    "num.describe()"
   ]
  },
  {
   "cell_type": "markdown",
   "metadata": {
    "collapsed": true
   },
   "source": [
    "> - we have a bunch of features that have only the values 0 and 1. En general the varibles show a big variance."
   ]
  },
  {
   "cell_type": "markdown",
   "metadata": {},
   "source": [
    "### Distribution plots for numerical variables"
   ]
  },
  {
   "cell_type": "markdown",
   "metadata": {},
   "source": [
    "Examined the distribution of numerical variables, including the peaks, spread, and symmetry. "
   ]
  },
  {
   "cell_type": "code",
   "execution_count": null,
   "metadata": {},
   "outputs": [],
   "source": [
    "fig, axes = plt.subplots(nrows=15, ncols=3,figsize=(50, 50),)\n",
    "for n,i in enumerate(num.columns):   \n",
    "    sns.distplot(num[i], ax=axes[int(n/3), int(n%3)],kde=False) \n",
    "    plt.xlabel(i, fontsize = 40 )\n",
    "    plt.title(i)\n",
    "plt.tight_layout\n",
    "plt.show()\n"
   ]
  },
  {
   "cell_type": "markdown",
   "metadata": {},
   "source": [
    "> - Each column has a unique curve. LDA columns (closeness to LDA topics) show the normal distribution slightly skew in both directions (right and left). In general, natural language proccesing features dont show any clear distribution are concentrating in only a few values."
   ]
  },
  {
   "cell_type": "markdown",
   "metadata": {},
   "source": [
    "### Prepocessing: Sentimental Analysis"
   ]
  },
  {
   "cell_type": "markdown",
   "metadata": {},
   "source": [
    "I have explored the relationship between the number of times an article is shared vs Sentimental Analysis features. For example, how does the title affect popularity and the article's overall polarity. Similarly, with topics."
   ]
  },
  {
   "cell_type": "markdown",
   "metadata": {},
   "source": [
    "** Scatterplot with coefficient r **\n",
    "The correlation coefficient r measures the strength and direction of a linear relationship between two variables on a scatterplot. The value of r is always between +1 and –1. "
   ]
  },
  {
   "cell_type": "markdown",
   "metadata": {},
   "source": [
    "#### Ttitle sentimetal polarity against the number of times an article is shared"
   ]
  },
  {
   "cell_type": "code",
   "execution_count": null,
   "metadata": {},
   "outputs": [],
   "source": [
    "#seaborn.jointplot(data=None, *, x=None, y=None, hue=None, kind='scatter', height=6, ratio=5, space=0.2, dropna=False, xlim=None, ylim=None, color=None, palette=None, hue_order=None, hue_norm=None, marginal_ticks=False, joint_kws=None, marginal_kws=None, **kwargs)"
   ]
  },
  {
   "cell_type": "code",
   "execution_count": null,
   "metadata": {},
   "outputs": [],
   "source": [
    "sns.jointplot(data=None,x=df_feature.title_sentiment_polarity, y=df_feature.shares_log, joint_kws=dict(s=25, alpha=0.6))\n",
    "#sns.jointplot(df.title_sentiment_polarity, df.shares_log, joint_kws=dict(s=25, alpha=0.6))"
   ]
  },
  {
   "cell_type": "markdown",
   "metadata": {
    "collapsed": true
   },
   "source": [
    "> - A moderate uphill (positive) relationship between the title sentimental polarity and the number of social shares."
   ]
  },
  {
   "cell_type": "markdown",
   "metadata": {},
   "source": [
    "#### Global sentimetal analysis against the number of times an article is shared "
   ]
  },
  {
   "cell_type": "code",
   "execution_count": null,
   "metadata": {},
   "outputs": [],
   "source": [
    "sns.jointplot(data=None,x=df_feature.global_sentiment_polarity, y=df_feature.shares_log, joint_kws=dict(s=25, alpha=0.6))\n"
   ]
  },
  {
   "cell_type": "markdown",
   "metadata": {},
   "source": [
    "> - A moderate uphill (positive) linear relationship between the body sentimental polarity and the number of shares."
   ]
  },
  {
   "cell_type": "markdown",
   "metadata": {},
   "source": [
    "#### Box plot of LDA topics features against the number of times an article is shared "
   ]
  },
  {
   "cell_type": "code",
   "execution_count": null,
   "metadata": {},
   "outputs": [],
   "source": [
    "topics = [\"LDA_00\", \"LDA_01\",\"LDA_02\", \"LDA_03\",\"LDA_04\"]\n",
    "fig, axes = plt.subplots(nrows=2, ncols=3,figsize=(20, 6))\n",
    "topics = df_feature[topics]\n",
    "topics['target'] = df_feature['shares_log']\n",
    "for i in range(5):\n",
    "    topics.iloc[:,[i,5]].plot(kind = 'scatter', x = topics.columns[i] , y = 'target', ax = axes[int(i/3),int(i%3)])\n",
    "plt.show()"
   ]
  },
  {
   "cell_type": "markdown",
   "metadata": {},
   "source": [
    "### Digital Media"
   ]
  },
  {
   "cell_type": "markdown",
   "metadata": {},
   "source": [
    "I would like to know the predictive power of Digital Media features."
   ]
  },
  {
   "cell_type": "markdown",
   "metadata": {},
   "source": [
    "#### Number Images Vs number of times an article is shared "
   ]
  },
  {
   "cell_type": "code",
   "execution_count": null,
   "metadata": {},
   "outputs": [],
   "source": [
    "sns.jointplot(data=None,x=df_feature.num_imgs,y=df_feature.shares_log, joint_kws=dict(s=25, alpha=0.6))\n",
    "plt.show()"
   ]
  },
  {
   "cell_type": "markdown",
   "metadata": {},
   "source": [
    "> - A moderate uphill (positive) linear relationship between the number of images in the news and the number of social shares"
   ]
  },
  {
   "cell_type": "markdown",
   "metadata": {},
   "source": [
    "#### Number Videos Vs Number of time an article is shared "
   ]
  },
  {
   "cell_type": "code",
   "execution_count": null,
   "metadata": {},
   "outputs": [],
   "source": [
    "sns.jointplot(data=None,x=df_feature.num_videos,y=df_feature.shares_log, joint_kws=dict(s=25, alpha=0.6))\n",
    "plt.show()"
   ]
  },
  {
   "cell_type": "markdown",
   "metadata": {},
   "source": [
    "> - A weak uphill (positive) linear relationship between the number of videos in the news and shares\n",
    "\n",
    "> - It seems that the majority does not include any videos and there are very few which include a higher number of videos. For this reason, I created a dummy variable for including/not including videos. However, the quality of models decreased and I decided to removed it again."
   ]
  },
  {
   "cell_type": "markdown",
   "metadata": {},
   "source": [
    "#### TimeDelta Distribution"
   ]
  },
  {
   "cell_type": "markdown",
   "metadata": {},
   "source": [
    "TimeDelta variable means days between the article publication and the dataset acquisition"
   ]
  },
  {
   "cell_type": "code",
   "execution_count": null,
   "metadata": {},
   "outputs": [],
   "source": [
    "# Plot distribution time delta\n",
    "plt.xlabel('TimeDelta')\n",
    "plt.title('Distribution of TimeDelta')\n",
    "sns.distplot(df_feature.timedelta,bins=5)"
   ]
  },
  {
   "cell_type": "markdown",
   "metadata": {
    "collapsed": true
   },
   "source": [
    "> - TimeDelta shows a high variance in the dataset\n",
    "\n",
    "> - This will be important to know the relationship between the number of times an article is shared vs the article has been published."
   ]
  },
  {
   "cell_type": "markdown",
   "metadata": {},
   "source": [
    "<a id='f35'></a>\n",
    "##  3.5 Check Correlations\n"
   ]
  },
  {
   "cell_type": "markdown",
   "metadata": {
    "collapsed": true
   },
   "source": [
    "\n",
    "- I've plotted a cluster map based on correlation of all variables to explore the redundancy in our data. "
   ]
  },
  {
   "cell_type": "code",
   "execution_count": null,
   "metadata": {},
   "outputs": [],
   "source": [
    "df_corr = df_feature.corr()   \n",
    "#cmap = sns.diverging_palette(h_neg=100, h_pos=250, s=90, l=30, as_cmap=True, center=\"light\",)\n",
    "sns.clustermap(df_corr, figsize=(10, 10))\n",
    "#sns.clustermap(df_corr, figsize=(14, 14), cmap = cmap,rotation = 0)"
   ]
  },
  {
   "cell_type": "markdown",
   "metadata": {},
   "source": [
    "#### Let us examine the relationship among some of them "
   ]
  },
  {
   "cell_type": "code",
   "execution_count": null,
   "metadata": {},
   "outputs": [],
   "source": [
    "sns.jointplot(data=None,x=df_feature.rate_negative_words, y=df_feature.shares, joint_kws=dict(s=25, alpha=0.6))"
   ]
  },
  {
   "cell_type": "code",
   "execution_count": null,
   "metadata": {},
   "outputs": [],
   "source": [
    "colors = np.random.rand(38818)\n",
    "plt.scatter(df_feature.rate_positive_words, df_feature.self_reference_min_shares,c=colors, alpha=0.5)\n",
    "plt.show()"
   ]
  },
  {
   "cell_type": "markdown",
   "metadata": {},
   "source": [
    "> - Don’t seem to shown any kind of relationship among the self_reference columns and the rate_positive (even a vague one)\n",
    "\n",
    "\n"
   ]
  },
  {
   "cell_type": "code",
   "execution_count": null,
   "metadata": {},
   "outputs": [],
   "source": [
    "sns.jointplot(data=None,x=df_feature.kw_avg_avg, y=df_feature.abs_title_sentiment_polarity, joint_kws=dict(s=25, alpha=0.6))\n",
    "plt.show()"
   ]
  },
  {
   "cell_type": "code",
   "execution_count": null,
   "metadata": {},
   "outputs": [],
   "source": [
    "sns.jointplot(data=None,x=df_feature.LDA_02, y=df_feature.kw_min_min, joint_kws=dict(s=25, alpha=0.6))"
   ]
  },
  {
   "cell_type": "markdown",
   "metadata": {},
   "source": [
    "> - No columns-related pattern\n",
    "\n",
    "\n",
    "> - ### **A full feature set include much noise. I applyed PCA for dimension reduction**\n",
    "\n"
   ]
  },
  {
   "cell_type": "markdown",
   "metadata": {},
   "source": [
    "<a id='f36'></a>\n",
    "###  3.6 Number of share news  trend"
   ]
  },
  {
   "cell_type": "markdown",
   "metadata": {
    "collapsed": true
   },
   "source": [
    "I considered analysing whether or not there was a relationship between the sharing of news and the month that it was published in by appling the Time Series model\n",
    "\n",
    "- Plot the shares for months"
   ]
  },
  {
   "cell_type": "code",
   "execution_count": null,
   "metadata": {},
   "outputs": [],
   "source": [
    "# Function to extract date from my url column\n",
    "def Extractdate(date):\n",
    "    return date[20:31]\n",
    "df_feature['datenew'] = df_feature['url'].map(Extractdate)"
   ]
  },
  {
   "cell_type": "code",
   "execution_count": null,
   "metadata": {},
   "outputs": [],
   "source": [
    "df_feature['datenew'] = pd.to_datetime(df_feature.datenew)"
   ]
  },
  {
   "cell_type": "code",
   "execution_count": null,
   "metadata": {},
   "outputs": [],
   "source": [
    "df_time = df_feature.copy()\n",
    "df_time.set_index('datenew', inplace=True)\n",
    "df_time.index.name = None"
   ]
  },
  {
   "cell_type": "code",
   "execution_count": null,
   "metadata": {},
   "outputs": [],
   "source": [
    "monthly_resampled_df = df_time.resample('M').mean()\n",
    "monthly_resampled_df.shares.plot(figsize=(8,4), title= 'Monthly Shares online News', fontsize=14)\n",
    "plt.show()"
   ]
  },
  {
   "cell_type": "markdown",
   "metadata": {
    "collapsed": true
   },
   "source": [
    "> - During this period the number of share decreased year on year. \n",
    "\n"
   ]
  },
  {
   "cell_type": "code",
   "execution_count": null,
   "metadata": {},
   "outputs": [],
   "source": [
    "# Unnecesary column\n",
    "df_feat_Un = df_feature.drop([u'url'],axis=1)"
   ]
  },
  {
   "cell_type": "markdown",
   "metadata": {},
   "source": [
    "   \n",
    "## Save my result as a CSV"
   ]
  },
  {
   "cell_type": "code",
   "execution_count": null,
   "metadata": {},
   "outputs": [],
   "source": [
    "# Adding index_label to avoid unaamed index\n",
    "df_feat_Un.to_csv('./df_feat_Un.csv', encoding='utf-8',index_label= False)"
   ]
  },
  {
   "cell_type": "code",
   "execution_count": null,
   "metadata": {},
   "outputs": [],
   "source": [
    "\n"
   ]
  },
  {
   "cell_type": "code",
   "execution_count": null,
   "metadata": {},
   "outputs": [],
   "source": []
  },
  {
   "cell_type": "markdown",
   "metadata": {
    "collapsed": true
   },
   "source": [
    "<a id='step4'></a>\n",
    "\n",
    "# Step 4: Dimensionality reduction"
   ]
  },
  {
   "cell_type": "markdown",
   "metadata": {},
   "source": [
    "I used principal component analysis to reduce the correlation between features and to reduce the number of features. The main purposes of a PCA analysis is to identify patterns to reduce the dimension of the dataset with minimal loss of information.\n",
    "\n",
    "> In this section, I did the following:\n",
    "\n",
    "1. PCA to identify patterns to reduce the dimension of the dataset\n",
    "2. Clustering Analysis: K-Means and Hierarchical clustering"
   ]
  },
  {
   "cell_type": "markdown",
   "metadata": {},
   "source": [
    "<a id='f41'></a>\n",
    "##      4.1 Principal Components Analysis"
   ]
  },
  {
   "cell_type": "code",
   "execution_count": null,
   "metadata": {},
   "outputs": [],
   "source": [
    "from sklearn.preprocessing import StandardScaler\n",
    "from sklearn.decomposition import PCA"
   ]
  },
  {
   "cell_type": "code",
   "execution_count": null,
   "metadata": {},
   "outputs": [],
   "source": [
    "cols = list(df_feat_Un.columns)\n",
    "cols.remove('shares')\n",
    "cols.remove('shares_log')\n",
    "cols.remove('y')\n",
    "cols.remove('y_c')\n",
    "cols.remove('datenew')\n",
    "#cols.remove('url')\n",
    "X = df_feat_Un[cols]"
   ]
  },
  {
   "cell_type": "code",
   "execution_count": null,
   "metadata": {},
   "outputs": [],
   "source": [
    "X.head(2)"
   ]
  },
  {
   "cell_type": "markdown",
   "metadata": {},
   "source": [
    "Before applying PCA, data needs to be standardised. Standardising is usually done when the variables on which the PCA is performed are not measured on the same scale. If they are not measured on the same scale and you choose to work on the non standardised variables, it is often the case that each Principal Component is dominated by a single variable.\n",
    "The standardising method being applied is Standard Scaling. The Standard Scaler standardises features by removing the mean and scaling to unit variance - assigning equal importance to all variables.\n"
   ]
  },
  {
   "cell_type": "code",
   "execution_count": null,
   "metadata": {},
   "outputs": [],
   "source": [
    "# Standarization\n",
    "scaler = StandardScaler()\n",
    "Xstd = scaler.fit_transform(X)"
   ]
  },
  {
   "cell_type": "code",
   "execution_count": null,
   "metadata": {
    "scrolled": false
   },
   "outputs": [],
   "source": [
    "#Calculate and plot the explained variance\n",
    "pca = PCA()\n",
    "pca.fit(Xstd)\n",
    "varianza = pca.explained_variance_ratio_\n",
    "var_acum= np.cumsum(varianza)\n",
    "\n",
    "ax = plt.gca()\n",
    "ax.set_ylabel('cumulative variance explained', fontsize=16)\n",
    "ax.set_xlabel('components', fontsize=16)\n",
    "ax.set_title('cumulative variance explained vs compoents\\n', fontsize=20)\n",
    "\n",
    "\n",
    "plt.bar(range(len(varianza)), varianza)\n",
    "plt.plot(range(len(varianza)), var_acum)\n",
    "plt.show()\n",
    "print(var_acum)"
   ]
  },
  {
   "cell_type": "code",
   "execution_count": null,
   "metadata": {},
   "outputs": [],
   "source": [
    "#Transform the subjective data into principal component space\n",
    "# The transform function in the PCA will create you new component variable matrix.\n",
    "\n",
    "Xstd_to_PCX = pca.fit_transform(Xstd)"
   ]
  },
  {
   "cell_type": "markdown",
   "metadata": {},
   "source": [
    "<a id='f42'></a>\n",
    "### 4.1.1. Horn's parallel analysis"
   ]
  },
  {
   "cell_type": "markdown",
   "metadata": {},
   "source": [
    "You can determine the appropriate number of components to keep by using a bootstrapping procedure known as Horn's Parallel Analysis.\n",
    "\n",
    "This is the gold standard in determining which components aren't noise.\n"
   ]
  },
  {
   "cell_type": "code",
   "execution_count": null,
   "metadata": {},
   "outputs": [],
   "source": [
    "def horn_parallel_analysis(shape, iters=1000, percentile=95):\n",
    "    pca = PCA(n_components=shape[1])\n",
    "    eigenvals = []\n",
    "    \n",
    "    for i in range(iters):\n",
    "        rdata = np.random.normal(0,1,size=shape)\n",
    "        pca.fit(rdata)\n",
    "        eigenvals.append(pca.explained_variance_)\n",
    "    \n",
    "    eigenvals = np.array(eigenvals)\n",
    "    return np.percentile(eigenvals, percentile, axis=0)"
   ]
  },
  {
   "cell_type": "code",
   "execution_count": null,
   "metadata": {},
   "outputs": [],
   "source": [
    "# This should auto-work (for 95th percentile)\n",
    "hep_pa = horn_parallel_analysis(Xstd_to_PCX.shape, percentile=95)"
   ]
  },
  {
   "cell_type": "code",
   "execution_count": null,
   "metadata": {},
   "outputs": [],
   "source": []
  },
  {
   "cell_type": "code",
   "execution_count": null,
   "metadata": {},
   "outputs": [],
   "source": []
  }
 ],
 "metadata": {
  "kernelspec": {
   "display_name": "Python 3 (ipykernel)",
   "language": "python",
   "name": "python3"
  },
  "language_info": {
   "codemirror_mode": {
    "name": "ipython",
    "version": 3
   },
   "file_extension": ".py",
   "mimetype": "text/x-python",
   "name": "python",
   "nbconvert_exporter": "python",
   "pygments_lexer": "ipython3",
   "version": "3.10.9"
  }
 },
 "nbformat": 4,
 "nbformat_minor": 2
}
